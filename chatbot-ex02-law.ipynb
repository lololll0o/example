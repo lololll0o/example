{
 "cells": [
  {
   "cell_type": "markdown",
   "id": "cca9c6c3",
   "metadata": {},
   "source": [
    "# Quiz - Managing Conversation History\n",
    "- trim_messages()\n",
    "- RunnablePassthrough\n",
    "- itemgetter\n",
    "\n",
    "session_id 지정하여 대화 진행.\n",
    "llm 모델이 과거 대화를 알지 못하는 상황 만들기."
   ]
  },
  {
   "cell_type": "code",
   "execution_count": 3,
   "id": "022eda27",
   "metadata": {},
   "outputs": [
    {
     "name": "stderr",
     "output_type": "stream",
     "text": [
      "\n",
      "KeyboardInterrupt\n",
      "\n"
     ]
    }
   ],
   "source": [
    "from langchain_core.runnables.history import RunnableWithMessageHistory\n",
    "from langchain_core.prompts import ChatPromptTemplate, MessagesPlaceholder\n",
    "from langchain_core.chat_history import InMemoryChatMessageHistory, BaseChatMessageHistory\n",
    "from langchain.callbacks.streaming_stdout import StreamingStdOutCallbackHandler\n",
    "from langchain_core.runnables import RunnablePassthrough\n",
    "from langchain_core.messages import SystemMessage, HumanMessage, trim_messages\n",
    "from operator import itemgetter\n",
    "from langchain_openai import ChatOpenAI\n",
    "from dotenv import load_dotenv\n",
    "\n",
    "load_dotenv()\n",
    "\n",
    "file_name = '남녀고용평등과 일ㆍ가정 양립 지원에 관한 법률(법률)(제20521호)(20250223).txt'\n",
    "\n",
    "with open(file_name, 'r', encoding='utf-8') as f:\n",
    "    law = f.read()\n",
    "\n",
    "llm = ChatOpenAI(\n",
    "    model = 'gpt-4o',\n",
    "    streaming=True,\n",
    "    callbacks=[StreamingStdOutCallbackHandler()],\n",
    "    )\n",
    "\n",
    "template = [\n",
    "    ('system', '''당신은 육아휴직 법률 전문가입니다.\n",
    "        아래 문서를 참고하여, 사용자 질문에 성실하게 답변합니다.\n",
    "        답변은 문서 내용을 기반으로 하되, 해당 조항도 표시합니다.\n",
    "        - 문서: {law}'''),\n",
    "        MessagesPlaceholder(variable_name=\"messages\"),\n",
    "        ('user', '{query}')\n",
    "    ]\n",
    "\n",
    "prompt = ChatPromptTemplate.from_messages(template)\n",
    "\n",
    "trimmer = trim_messages(\n",
    "    max_tokens=5_000,\n",
    "    strategy=\"last\",\n",
    "    token_counter=llm,\n",
    "    include_system=True, #Systemmessage 포함 출력\n",
    "    allow_partial=False,\n",
    "    start_on=\"Human\",\n",
    ")\n",
    "\n",
    "chain = (\n",
    "    RunnablePassthrough.assign(messages=itemgetter(\"messages\") | trimmer)\n",
    "    |prompt\n",
    "    |llm\n",
    ")\n",
    "\n",
    "# 세션별 대화 이력을 임시 메모리 저장\n",
    "store = {}\n",
    "\n",
    "\n",
    "config = {\"configurable\":{\"session_id\":\"asdf\"} }\n",
    "\n",
    "\n",
    "def get_session_history(session_id: str) -> BaseChatMessageHistory: #부모클래스\n",
    "\tif session_id not in store:\n",
    "\t\tstore[session_id] = InMemoryChatMessageHistory() #자식클래스\n",
    "\treturn store[session_id]\n",
    "\n",
    "\n",
    "with_message_history = RunnableWithMessageHistory(\n",
    "    chain,\n",
    "    get_session_history,\n",
    "    input_messages_key=\"query\",\n",
    "    history_messages_key=\"messages\"\n",
    ")\n",
    "\n",
    "\n",
    "\n",
    "while True:\n",
    "    query = input('질문을 입력하시오. 관두려면 S')\n",
    "\n",
    "    if query.upper() == 'S':\n",
    "        break\n",
    "\n",
    "    response = with_message_history.invoke(\n",
    "        {\"query\": query, \"law\": law},\n",
    "        config=config,\n",
    "    )\n",
    "\n",
    "    print('\\n' + '=' * 50 + '\\n')  # 이 줄이 동일한 블록 안으로 들어가야 함\n"
   ]
  },
  {
   "cell_type": "markdown",
   "id": "713f5dd5",
   "metadata": {},
   "source": [
    "#### 질문\n",
    "- 육아휴직 기간?\n",
    "- 조건?\n",
    "- 대상자?\n",
    "- 수당?\n",
    "- 첫 번째 질문이 뭐야?\n",
    "- 질문 정리해줘.\n",
    "- 네 역할은?\n",
    "- 육아휴직 질문에 대한 답변 정리."
   ]
  },
  {
   "cell_type": "code",
   "execution_count": 5,
   "id": "eb00379c",
   "metadata": {},
   "outputs": [],
   "source": [
    "# 이전 대화기록 전부 출력하기\n",
    "for messages in get_session_history(\"asdf\").messages:\n",
    "\tprint(f'[{messages.type.upper()}]: {messages.content}')\n",
    "\tprint()"
   ]
  },
  {
   "cell_type": "code",
   "execution_count": 6,
   "id": "a5a31d42",
   "metadata": {},
   "outputs": [
    {
     "ename": "NameError",
     "evalue": "name 'response' is not defined",
     "output_type": "error",
     "traceback": [
      "\u001b[31m---------------------------------------------------------------------------\u001b[39m",
      "\u001b[31mNameError\u001b[39m                                 Traceback (most recent call last)",
      "\u001b[36mCell\u001b[39m\u001b[36m \u001b[39m\u001b[32mIn[6]\u001b[39m\u001b[32m, line 2\u001b[39m\n\u001b[32m      1\u001b[39m \u001b[38;5;66;03m# trimmer 사용한 후 남은 대화 기록 \u001b[39;00m\n\u001b[32m----> \u001b[39m\u001b[32m2\u001b[39m \u001b[43mresponse\u001b[49m.content\n",
      "\u001b[31mNameError\u001b[39m: name 'response' is not defined"
     ]
    }
   ],
   "source": [
    "# trimmer 사용한 후 남은 대화 기록 \n",
    "response.content"
   ]
  },
  {
   "cell_type": "code",
   "execution_count": 8,
   "id": "28f7aa71",
   "metadata": {},
   "outputs": [
    {
     "data": {
      "text/plain": [
       "{'asdf': InMemoryChatMessageHistory(messages=[])}"
      ]
     },
     "execution_count": 8,
     "metadata": {},
     "output_type": "execute_result"
    }
   ],
   "source": [
    "store"
   ]
  }
 ],
 "metadata": {
  "kernelspec": {
   "display_name": "project",
   "language": "python",
   "name": "python3"
  },
  "language_info": {
   "codemirror_mode": {
    "name": "ipython",
    "version": 3
   },
   "file_extension": ".py",
   "mimetype": "text/x-python",
   "name": "python",
   "nbconvert_exporter": "python",
   "pygments_lexer": "ipython3",
   "version": "3.13.2"
  }
 },
 "nbformat": 4,
 "nbformat_minor": 5
}
